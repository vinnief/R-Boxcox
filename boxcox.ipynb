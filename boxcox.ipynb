{
 "cells": [
  {
   "cell_type": "markdown",
   "metadata": {},
   "source": [
    "# Box-Cox transformation Demo\n",
    "Using Random data, we generate a polynomial dataset with $x \\in [0.1 , 10]$. \n",
    "Using the boxcox R function, we estimate the best box cox transform to get a straight data set. \n",
    "with the  `?boxcox`\n",
    "command you will see what other parameters you can give the boxcox function. \n",
    "More information about Box-Cox transforms by Peng-Fei Li: https://www.ime.usp.br/~abe/lista/pdfm9cJKUmFZp.pdf\n",
    "The original script (without randomization) can be found at https://www.statology.org/box-cox-transformation-in-r/"
   ]
  },
  {
   "cell_type": "code",
   "execution_count": 1,
   "metadata": {},
   "outputs": [
    {
     "name": "stderr",
     "output_type": "stream",
     "text": [
      "Loading required package: MASS\n",
      "\n"
     ]
    }
   ],
   "source": [
    "require(MASS)\n",
    "#require(ggplot2)"
   ]
  },
  {
   "cell_type": "code",
   "execution_count": 2,
   "metadata": {},
   "outputs": [
    {
     "name": "stdout",
     "output_type": "stream",
     "text": [
      "[1] \"polynomial: y = 20 +x^ -3.688 +eps\"\n"
     ]
    }
   ],
   "source": [
    "#?runif\n",
    "#?rdisc\n",
    "n = rnorm(1,100,10)\n",
    "r = rnorm(1,1,2)\n",
    "x=runif(n,0.1,10)\n",
    "y = 20+ x^r *(1+ rnorm(n,0,.3))\n",
    "print(paste(\"polynomial: y = 20 +x^\" , round(r,4), \"+eps\"))"
   ]
  },
  {
   "cell_type": "code",
   "execution_count": 3,
   "metadata": {},
   "outputs": [
    {
     "data": {
      "text/html": [
       "-3"
      ],
      "text/latex": [
       "-3"
      ],
      "text/markdown": [
       "-3"
      ],
      "text/plain": [
       "[1] -3"
      ]
     },
     "metadata": {},
     "output_type": "display_data"
    },
    {
     "data": {
      "image/png": "[encoded data removed]",
      "text/plain": [
       "plot without title"
      ]
     },
     "metadata": {
      "image/png": {
       "height": 420,
       "width": 420
      }
     },
     "output_type": "display_data"
    }
   ],
   "source": [
    "#find optimal lambda for Box-Cox transformation \n",
    "bc <- boxcox(y ~ x, lambda = seq(-3,3,0.1))\n",
    "(lambda <- bc$x[which.max(bc$y)])\n",
    "#fit new linear regression model using the Box-Cox transformation\n",
    "new_model <- lm(((y^lambda-1)/lambda) ~ x)"
   ]
  },
  {
   "cell_type": "markdown",
   "metadata": {},
   "source": [
    "### Fit linear regression models"
   ]
  },
  {
   "cell_type": "code",
   "execution_count": 8,
   "metadata": {},
   "outputs": [
    {
     "data": {
      "image/png": "[encoded data removed]",
      "text/plain": [
       "Plot with title \"transformed scatterplot and lm fit\""
      ]
     },
     "metadata": {
      "image/png": {
       "height": 420,
       "width": 420
      }
     },
     "output_type": "display_data"
    }
   ],
   "source": [
    "model <- lm(y~x)\n",
    "#fit new linear regression model using the Box-Cox transformation\n",
    "new_model <- lm(((y^lambda-1)/lambda) ~ x)\n",
    "#define plotting area\n",
    "op <- par(pty = \"s\", mfrow = c(2, 2))\n",
    "\n",
    "#Q-Q plot for original model\n",
    "qqnorm(model$residuals)\n",
    "qqline(model$residuals)\n",
    "\n",
    "#Q-Q plot for Box-Cox transformed model\n",
    "qqnorm(new_model$residuals)\n",
    "qqline(new_model$residuals)\n",
    "plot(x,y)\n",
    "title(\"original scatterplot and lm fit\")\n",
    "abline(model)\n",
    "plot(x, (y^lambda-1)/lambda)\n",
    "title(\"transformed scatterplot and lm fit\")\n",
    "abline(new_model)\n",
    "#display all 4 plots\n",
    "par(op)"
   ]
  },
  {
   "cell_type": "markdown",
   "metadata": {},
   "source": [
    "Depending on the random exponent, the transformed data shows a much straighter QQ plot, showing that the dat ais more normal, and the right hand side Scatterplot has a more equal variation and is straighter around the line. (if the exponent is positive, it works well. if the exponent is negative, like -3, it doesnt work well.  "
   ]
  },
  {
   "cell_type": "markdown",
   "metadata": {},
   "source": [
    "### A summary of the original and transformed models:"
   ]
  },
  {
   "cell_type": "code",
   "execution_count": 10,
   "metadata": {
    "scrolled": true
   },
   "outputs": [
    {
     "data": {
      "text/plain": [
       "\n",
       "Call:\n",
       "lm(formula = y ~ x)\n",
       "\n",
       "Residuals:\n",
       "    Min      1Q  Median      3Q     Max \n",
       " -64.65  -39.52   -9.49   10.55 1351.32 \n",
       "\n",
       "Coefficients:\n",
       "            Estimate Std. Error t value Pr(>|t|)    \n",
       "(Intercept)   94.846     26.185   3.622 0.000444 ***\n",
       "x            -10.825      4.382  -2.470 0.015030 *  \n",
       "---\n",
       "Signif. codes:  0 '***' 0.001 '**' 0.01 '*' 0.05 '.' 0.1 ' ' 1\n",
       "\n",
       "Residual standard error: 136 on 110 degrees of freedom\n",
       "Multiple R-squared:  0.05257,\tAdjusted R-squared:  0.04395 \n",
       "F-statistic: 6.103 on 1 and 110 DF,  p-value: 0.01503\n"
      ]
     },
     "metadata": {},
     "output_type": "display_data"
    },
    {
     "data": {
      "text/plain": [
       "\n",
       "Call:\n",
       "lm(formula = ((y^lambda - 1)/lambda) ~ x)\n",
       "\n",
       "Residuals:\n",
       "       Min         1Q     Median         3Q        Max \n",
       "-7.671e-06 -5.274e-06 -8.724e-07  1.985e-06  3.124e-05 \n",
       "\n",
       "Coefficients:\n",
       "              Estimate Std. Error    t value Pr(>|t|)    \n",
       "(Intercept)  3.333e-01  1.535e-06 217115.668  < 2e-16 ***\n",
       "x           -1.534e-06  2.569e-07     -5.973 2.92e-08 ***\n",
       "---\n",
       "Signif. codes:  0 '***' 0.001 '**' 0.01 '*' 0.05 '.' 0.1 ' ' 1\n",
       "\n",
       "Residual standard error: 7.975e-06 on 110 degrees of freedom\n",
       "Multiple R-squared:  0.2449,\tAdjusted R-squared:  0.238 \n",
       "F-statistic: 35.68 on 1 and 110 DF,  p-value: 2.916e-08\n"
      ]
     },
     "metadata": {},
     "output_type": "display_data"
    }
   ],
   "source": [
    "summary(model)\n",
    "summary(new_model)"
   ]
  }
 ],
 "metadata": {
  "jupytext": {
   "formats": "ipynb,Rmd"
  },
  "kernelspec": {
   "display_name": "R 4.0.2",
   "language": "R",
   "name": "ir4.0.2"
  },
  "language_info": {
   "codemirror_mode": "r",
   "file_extension": ".r",
   "mimetype": "text/x-r-source",
   "name": "R",
   "pygments_lexer": "r",
   "version": "4.0.2"
  }
 },
 "nbformat": 4,
 "nbformat_minor": 4
}
