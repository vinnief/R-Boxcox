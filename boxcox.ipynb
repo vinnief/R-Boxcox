{
 "cells": [
  {
   "cell_type": "markdown",
   "metadata": {
    "slideshow": {
     "slide_type": "slide"
    }
   },
   "source": [
    "# Box-Cox transformation Demo\n",
    "Using Random data, we generate a polynomial dataset with $x \\in [0.1 , 10]$. \n",
    "Using the boxcox R function, we estimate the best box cox transform to get a straight data set. \n",
    "\n",
    "With the  `?boxcox` command you will see what other parameters you can give the boxcox function. \n",
    "More information about Box-Cox transforms by Peng-Fei Li: https://www.ime.usp.br/~abe/lista/pdfm9cJKUmFZp.pdf\n",
    "The original script (without randomization) can be found at https://www.statology.org/box-cox-transformation-in-r/"
   ]
  },
  {
   "cell_type": "code",
   "execution_count": 1,
   "metadata": {
    "slideshow": {
     "slide_type": "fragment"
    }
   },
   "outputs": [
    {
     "name": "stderr",
     "output_type": "stream",
     "text": [
      "Loading required package: MASS\n",
      "\n"
     ]
    }
   ],
   "source": [
    "require(MASS)\n",
    "#require(ggplot2)"
   ]
  },
  {
   "cell_type": "code",
   "execution_count": 2,
   "metadata": {
    "slideshow": {
     "slide_type": "fragment"
    }
   },
   "outputs": [
    {
     "name": "stdout",
     "output_type": "stream",
     "text": [
      "[1] \"polynomial: y = 20 +x^ 3.2825 +eps\"\n"
     ]
    }
   ],
   "source": [
    "#?runif\n",
    "#?rdisc\n",
    "n = 1000\n",
    "r = rnorm(1,2,2)\n",
    "x=runif(n,0.1,10)\n",
    "y = 20+ x^r *(1+ rnorm(n,0,.3))\n",
    "print(paste(\"polynomial: y = 20 +x^\" , round(r,4), \"+eps\"))"
   ]
  },
  {
   "cell_type": "code",
   "execution_count": 3,
   "metadata": {
    "slideshow": {
     "slide_type": "subslide"
    }
   },
   "outputs": [
    {
     "data": {
      "text/html": [
       "0.0303030303030303"
      ],
      "text/latex": [
       "0.0303030303030303"
      ],
      "text/markdown": [
       "0.0303030303030303"
      ],
      "text/plain": [
       "[1] 0.03030303"
      ]
     },
     "metadata": {},
     "output_type": "display_data"
    },
    {
     "data": {
      "image/png": "[encoded data removed]",
      "text/plain": [
       "plot without title"
      ]
     },
     "metadata": {
      "image/png": {
       "height": 420,
       "width": 420
      }
     },
     "output_type": "display_data"
    }
   ],
   "source": [
    "#find optimal lambda for Box-Cox transformation \n",
    "bc <- boxcox(y ~ x, lambda = seq(-3,3,0.1))\n",
    "(lambda <- bc$x[which.max(bc$y)])\n",
    "#fit new linear regression model using the Box-Cox transformation\n",
    "new_model <- lm(((y^lambda-1)/lambda) ~ x)"
   ]
  },
  {
   "cell_type": "markdown",
   "metadata": {
    "slideshow": {
     "slide_type": "slide"
    }
   },
   "source": [
    "### Fit linear regression models"
   ]
  },
  {
   "cell_type": "code",
   "execution_count": 4,
   "metadata": {
    "slideshow": {
     "slide_type": "fragment"
    }
   },
   "outputs": [
    {
     "data": {
      "image/png": "[encoded data removed]",
      "text/plain": [
       "Plot with title \"transformed scatterplot and lm fit\""
      ]
     },
     "metadata": {
      "image/png": {
       "height": 420,
       "width": 420
      }
     },
     "output_type": "display_data"
    }
   ],
   "source": [
    "model <- lm(y~x)\n",
    "#fit new linear regression model using the Box-Cox transformation\n",
    "new_model <- lm(((y^lambda-1)/lambda) ~ x)\n",
    "#define plotting area\n",
    "op <- par(pty = \"s\", mfrow = c(2, 2))\n",
    "\n",
    "#Q-Q plot for original model\n",
    "qqnorm(model$residuals)\n",
    "qqline(model$residuals)\n",
    "\n",
    "#Q-Q plot for Box-Cox transformed model\n",
    "qqnorm(new_model$residuals)\n",
    "qqline(new_model$residuals)\n",
    "plot(x,y,pch = \".\")#, col = c(50,50,50,alpha = .9))\n",
    "title(\"original scatterplot and lm fit\")\n",
    "abline(model)\n",
    "plot(x, (y^lambda-1)/lambda, pch = \".\") #, col =c(50,50,50,alpha = .5))\n",
    "title(\"transformed scatterplot and lm fit\")\n",
    "abline(new_model)\n",
    "#display all 4 plots\n",
    "par(op)"
   ]
  },
  {
   "cell_type": "markdown",
   "metadata": {
    "slideshow": {
     "slide_type": "subslide"
    }
   },
   "source": [
    "If we are lucky (with the random exponent), the transformed data shows a much straighter QQ plot, showing that the residuals are more normally distributed, and the right hand side scatterplot has a more equal variation and is straighter around the line. \n",
    "\n",
    "If the exponent is larger than 1, it works well. if the exponent is 03 or -3, it doesnt work well, i.e. the QQ plot on the right hand side shows no less deviation from a straight line than the untransformed one on the LHS, and the Regression fit plot on the RHS shows the transformed data is not better fitted to a straight line than the untransformed data on the LHS.  \n",
    "Run the above cells a few times to convince yourself of this. "
   ]
  },
  {
   "cell_type": "markdown",
   "metadata": {
    "slideshow": {
     "slide_type": "slide"
    }
   },
   "source": [
    "### A summary of estimations of the original and transformed models:"
   ]
  },
  {
   "cell_type": "code",
   "execution_count": 5,
   "metadata": {
    "slideshow": {
     "slide_type": "-"
    }
   },
   "outputs": [
    {
     "data": {
      "text/plain": [
       "\n",
       "Call:\n",
       "lm(formula = y ~ x)\n",
       "\n",
       "Residuals:\n",
       "     Min       1Q   Median       3Q      Max \n",
       "-1030.85  -193.99   -59.35   168.24  1478.38 \n",
       "\n",
       "Coefficients:\n",
       "            Estimate Std. Error t value Pr(>|t|)    \n",
       "(Intercept) -374.698     19.524  -19.19   <2e-16 ***\n",
       "x            165.093      3.269   50.51   <2e-16 ***\n",
       "---\n",
       "Signif. codes:  0 '***' 0.001 '**' 0.01 '*' 0.05 '.' 0.1 ' ' 1\n",
       "\n",
       "Residual standard error: 295.9 on 998 degrees of freedom\n",
       "Multiple R-squared:  0.7188,\tAdjusted R-squared:  0.7185 \n",
       "F-statistic:  2551 on 1 and 998 DF,  p-value: < 2.2e-16\n"
      ]
     },
     "metadata": {},
     "output_type": "display_data"
    },
    {
     "data": {
      "text/plain": [
       "\n",
       "Call:\n",
       "lm(formula = ((y^lambda - 1)/lambda) ~ x)\n",
       "\n",
       "Residuals:\n",
       "     Min       1Q   Median       3Q      Max \n",
       "-2.94638 -0.21152  0.02314  0.27037  1.08483 \n",
       "\n",
       "Coefficients:\n",
       "            Estimate Std. Error t value Pr(>|t|)    \n",
       "(Intercept) 2.629055   0.025881   101.6   <2e-16 ***\n",
       "x           0.604870   0.004333   139.6   <2e-16 ***\n",
       "---\n",
       "Signif. codes:  0 '***' 0.001 '**' 0.01 '*' 0.05 '.' 0.1 ' ' 1\n",
       "\n",
       "Residual standard error: 0.3922 on 998 degrees of freedom\n",
       "Multiple R-squared:  0.9513,\tAdjusted R-squared:  0.9512 \n",
       "F-statistic: 1.949e+04 on 1 and 998 DF,  p-value: < 2.2e-16\n"
      ]
     },
     "metadata": {},
     "output_type": "display_data"
    }
   ],
   "source": [
    "summary(model)\n",
    "summary(new_model)"
   ]
  },
  {
   "cell_type": "markdown",
   "metadata": {
    "slideshow": {
     "slide_type": "slide"
    }
   },
   "source": [
    "## Other data distributions"
   ]
  },
  {
   "cell_type": "markdown",
   "metadata": {
    "slideshow": {
     "slide_type": "subslide"
    }
   },
   "source": [
    "### Poisson distributed data: (e.g. # of potholes in a km of road)"
   ]
  },
  {
   "cell_type": "code",
   "execution_count": 6,
   "metadata": {
    "slideshow": {
     "slide_type": "fragment"
    }
   },
   "outputs": [
    {
     "name": "stderr",
     "output_type": "stream",
     "text": [
      "Loading required package: purrr\n",
      "\n",
      "z = Poisson(t)+.01  \n",
      "   ( +.01 to be positive: Box Cox transforms only work for positive variables)\n",
      "\n",
      "best exponent seems to be\n",
      "\n",
      "0.575757575757576\n",
      "\n"
     ]
    },
    {
     "data": {
      "image/png": "[encoded data removed]",
      "text/plain": [
       "Plot with title \"Histogram of df$z/df$t\""
      ]
     },
     "metadata": {
      "image/png": {
       "height": 420,
       "width": 420
      }
     },
     "output_type": "display_data"
    }
   ],
   "source": [
    "#find optimal lambda for Box-Cox transformation of Poisson data\n",
    "require(purrr)\n",
    "m <- runif(1,0.1,10)\n",
    "df <- data.frame( t=seq(from=1, to = 5, length.out= n))\n",
    "df$z <- map_dbl(df$t, {function(t) { rpois(1,t) +.1} })\n",
    "op <- par(pty = \"s\", mfrow = c(1, 2))  #2 plots side by side\n",
    "hist(df$z/df$t,prob =T)\n",
    "lines(density(df$z))\n",
    "lines(density(df$z, adjust=2), lty=\"dotted\")\n",
    "message(paste(\"z = Poisson(t)+.01  \n",
    "   ( +.01 to be positive: Box Cox transforms only work for positive variables)\"))\n",
    "#print(bcz)\n",
    "bcz <- boxcox(df$z ~ df$t, lambda = seq(-3,3,0.1))\n",
    "lambdaz <- bcz$x[which.max(bcz$y)]\n",
    "message('best exponent seems to be' )\n",
    "message(lambdaz)\n",
    "par(op)"
   ]
  },
  {
   "cell_type": "code",
   "execution_count": 7,
   "metadata": {
    "slideshow": {
     "slide_type": "subslide"
    }
   },
   "outputs": [
    {
     "data": {
      "image/png": "[encoded data removed]",
      "text/plain": [
       "Plot with title \"transformed scatterplot and lm fit\""
      ]
     },
     "metadata": {
      "image/png": {
       "height": 420,
       "width": 420
      }
     },
     "output_type": "display_data"
    }
   ],
   "source": [
    "modelz <- lm(df$z ~ df$t)\n",
    "#fit new linear regression model using the Box-Cox transformation\n",
    "#print( (df$z^lambdaz-1)/lambdaz)\n",
    "\n",
    "new_modelz <- lm(((df$z^lambdaz-1)/lambdaz) ~ df$t)\n",
    "\n",
    "#define plotting area\n",
    "op <- par(pty = \"s\", mfrow = c(2, 2))\n",
    "\n",
    "#Q-Q plot for original model\n",
    "qqnorm(modelz$residuals)\n",
    "qqline(modelz$residuals)\n",
    "\n",
    "#Q-Q plot for Box-Cox transformed model\n",
    "qqnorm(new_modelz$residuals)\n",
    "qqline(new_modelz$residuals)\n",
    "plot(df$t,df$z,pch = \".\")\n",
    "title(\"original scatterplot and lm fit\")\n",
    "abline(modelz)\n",
    "plot(df$t, (df$z^lambdaz-1)/lambdaz,pch = \".\")\n",
    "title(\"transformed scatterplot and lm fit\")\n",
    "abline(new_modelz)\n",
    "#display all 4 plots\n",
    "par(op)"
   ]
  },
  {
   "cell_type": "code",
   "execution_count": 8,
   "metadata": {
    "slideshow": {
     "slide_type": "subslide"
    }
   },
   "outputs": [
    {
     "data": {
      "text/plain": [
       "\n",
       "Call:\n",
       "lm(formula = df$z ~ df$t)\n",
       "\n",
       "Residuals:\n",
       "    Min      1Q  Median      3Q     Max \n",
       "-4.8255 -1.1669 -0.1931  0.9992  6.6384 \n",
       "\n",
       "Coefficients:\n",
       "            Estimate Std. Error t value Pr(>|t|)    \n",
       "(Intercept)  0.17430    0.14846   1.174    0.241    \n",
       "df$t         0.97523    0.04618  21.118   <2e-16 ***\n",
       "---\n",
       "Signif. codes:  0 '***' 0.001 '**' 0.01 '*' 0.05 '.' 0.1 ' ' 1\n",
       "\n",
       "Residual standard error: 1.688 on 998 degrees of freedom\n",
       "Multiple R-squared:  0.3089,\tAdjusted R-squared:  0.3082 \n",
       "F-statistic:   446 on 1 and 998 DF,  p-value: < 2.2e-16\n"
      ]
     },
     "metadata": {},
     "output_type": "display_data"
    },
    {
     "data": {
      "text/plain": [
       "\n",
       "Call:\n",
       "lm(formula = ((df$z^lambdaz - 1)/lambdaz) ~ df$t)\n",
       "\n",
       "Residuals:\n",
       "    Min      1Q  Median      3Q     Max \n",
       "-3.8821 -0.6634 -0.0008  0.7448  3.5017 \n",
       "\n",
       "Coefficients:\n",
       "            Estimate Std. Error t value Pr(>|t|)    \n",
       "(Intercept) -0.57819    0.09750   -5.93 4.17e-09 ***\n",
       "df$t         0.65371    0.03033   21.55  < 2e-16 ***\n",
       "---\n",
       "Signif. codes:  0 '***' 0.001 '**' 0.01 '*' 0.05 '.' 0.1 ' ' 1\n",
       "\n",
       "Residual standard error: 1.109 on 998 degrees of freedom\n",
       "Multiple R-squared:  0.3177,\tAdjusted R-squared:  0.317 \n",
       "F-statistic: 464.6 on 1 and 998 DF,  p-value: < 2.2e-16\n"
      ]
     },
     "metadata": {},
     "output_type": "display_data"
    }
   ],
   "source": [
    "summary(modelz)\n",
    "summary(new_modelz)"
   ]
  },
  {
   "cell_type": "markdown",
   "metadata": {
    "slideshow": {
     "slide_type": "slide"
    }
   },
   "source": [
    "### Exponentially distributed data (# of km between potholes on road)"
   ]
  },
  {
   "cell_type": "code",
   "execution_count": 9,
   "metadata": {
    "slideshow": {
     "slide_type": "fragment"
    }
   },
   "outputs": [
    {
     "name": "stderr",
     "output_type": "stream",
     "text": [
      "e = exp(t)+.01  \n",
      "   ( +.01 to be positive: Box Cox transforms only work for positive variables)\n",
      "\n",
      "best exponent seems to be\n",
      "\n",
      "0.151515151515151\n",
      "\n"
     ]
    },
    {
     "data": {
      "image/png": "[encoded data removed]",
      "text/plain": [
       "Plot with title \"Histogram of df$e/df$t\""
      ]
     },
     "metadata": {
      "image/png": {
       "height": 420,
       "width": 420
      }
     },
     "output_type": "display_data"
    }
   ],
   "source": [
    "#find optimal lambda for Box-Cox transformation of exponential data\n",
    "\n",
    "\n",
    "df$e <- map_dbl(df$t, {function(t) { rexp(1,t) +.01} })\n",
    "op <- par(pty = \"s\", mfrow = c(1, 2))\n",
    "hist(df$e/df$t,prob =T)\n",
    "lines(density(df$e))\n",
    "lines(density(df$e, adjust=2), lty=\"dotted\")\n",
    "message(paste(\"e = exp(t)+.01  \n",
    "   ( +.01 to be positive: Box Cox transforms only work for positive variables)\"))\n",
    "\n",
    "bce <- boxcox(df$e ~ df$t, lambda = seq(-3,3,0.1))\n",
    "lambdae <- bce$x[which.max(bce$y)]\n",
    "message('best exponent seems to be' )\n",
    "message(lambdae)\n",
    "par(op)"
   ]
  },
  {
   "cell_type": "code",
   "execution_count": 10,
   "metadata": {
    "slideshow": {
     "slide_type": "subslide"
    }
   },
   "outputs": [
    {
     "data": {
      "image/png": "[encoded data removed]",
      "text/plain": [
       "Plot with title \"transformed scatterplot and lm fit\""
      ]
     },
     "metadata": {
      "image/png": {
       "height": 420,
       "width": 420
      }
     },
     "output_type": "display_data"
    }
   ],
   "source": [
    "modele <- lm(df$e ~ df$t)\n",
    "#fit new linear regression model using the Box-Cox transformation\n",
    "\n",
    "new_modele <- lm(((df$e^lambdae-1)/lambdae) ~ df$t)\n",
    "\n",
    "#define plotting area\n",
    "op <- par(pty = \"s\", mfrow = c(2, 2))\n",
    "\n",
    "#Q-Q plot for original model\n",
    "qqnorm(modele$residuals)\n",
    "qqline(modele$residuals)\n",
    "\n",
    "#Q-Q plot for Box-Cox transformed model\n",
    "qqnorm(new_modele$residuals)\n",
    "qqline(new_modele$residuals)\n",
    "plot(df$t,df$e,pch = \".\")\n",
    "title(\"original scatterplot and lm fit\")\n",
    "abline(modele)\n",
    "plot(df$t, (df$e^lambdae-1)/lambdae,pch = \".\")\n",
    "title(\"transformed scatterplot and lm fit\")\n",
    "abline(new_modele)\n",
    "#display all 4 plots\n",
    "par(op)"
   ]
  },
  {
   "cell_type": "code",
   "execution_count": 11,
   "metadata": {
    "slideshow": {
     "slide_type": "subslide"
    }
   },
   "outputs": [
    {
     "data": {
      "text/plain": [
       "\n",
       "Call:\n",
       "lm(formula = df$e ~ df$t)\n",
       "\n",
       "Residuals:\n",
       "     Min       1Q   Median       3Q      Max \n",
       "-0.65482 -0.26422 -0.09163  0.14814  2.93445 \n",
       "\n",
       "Coefficients:\n",
       "            Estimate Std. Error t value Pr(>|t|)    \n",
       "(Intercept)  0.82477    0.03764   21.91   <2e-16 ***\n",
       "df$t        -0.14172    0.01171  -12.11   <2e-16 ***\n",
       "---\n",
       "Signif. codes:  0 '***' 0.001 '**' 0.01 '*' 0.05 '.' 0.1 ' ' 1\n",
       "\n",
       "Residual standard error: 0.4279 on 998 degrees of freedom\n",
       "Multiple R-squared:  0.128,\tAdjusted R-squared:  0.1272 \n",
       "F-statistic: 146.6 on 1 and 998 DF,  p-value: < 2.2e-16\n"
      ]
     },
     "metadata": {},
     "output_type": "display_data"
    },
    {
     "data": {
      "text/plain": [
       "\n",
       "Call:\n",
       "lm(formula = ((df$e^lambdae - 1)/lambdae) ~ df$t)\n",
       "\n",
       "Residuals:\n",
       "    Min      1Q  Median      3Q     Max \n",
       "-2.3630 -0.5742  0.0215  0.6319  2.3565 \n",
       "\n",
       "Coefficients:\n",
       "            Estimate Std. Error t value Pr(>|t|)    \n",
       "(Intercept) -0.49374    0.07554  -6.536 1.01e-10 ***\n",
       "df$t        -0.25260    0.02350 -10.750  < 2e-16 ***\n",
       "---\n",
       "Signif. codes:  0 '***' 0.001 '**' 0.01 '*' 0.05 '.' 0.1 ' ' 1\n",
       "\n",
       "Residual standard error: 0.8589 on 998 degrees of freedom\n",
       "Multiple R-squared:  0.1038,\tAdjusted R-squared:  0.1029 \n",
       "F-statistic: 115.6 on 1 and 998 DF,  p-value: < 2.2e-16\n"
      ]
     },
     "metadata": {},
     "output_type": "display_data"
    }
   ],
   "source": [
    "summary(modele)\n",
    "summary(new_modele)"
   ]
  }
 ],
 "metadata": {
  "celltoolbar": "Slideshow",
  "jupytext": {
   "formats": "ipynb,Rmd"
  },
  "kernelspec": {
   "display_name": "R 4.0.2",
   "language": "R",
   "name": "ir4.0.2"
  },
  "language_info": {
   "codemirror_mode": "r",
   "file_extension": ".r",
   "mimetype": "text/x-r-source",
   "name": "R",
   "pygments_lexer": "r",
   "version": "4.0.2"
  }
 },
 "nbformat": 4,
 "nbformat_minor": 4
}
